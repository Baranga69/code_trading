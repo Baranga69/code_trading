{
 "cells": [
  {
   "cell_type": "code",
   "execution_count": 1,
   "metadata": {},
   "outputs": [
    {
     "data": {
      "text/html": [
       "<div>\n",
       "<style scoped>\n",
       "    .dataframe tbody tr th:only-of-type {\n",
       "        vertical-align: middle;\n",
       "    }\n",
       "\n",
       "    .dataframe tbody tr th {\n",
       "        vertical-align: top;\n",
       "    }\n",
       "\n",
       "    .dataframe thead th {\n",
       "        text-align: right;\n",
       "    }\n",
       "</style>\n",
       "<table border=\"1\" class=\"dataframe\">\n",
       "  <thead>\n",
       "    <tr style=\"text-align: right;\">\n",
       "      <th></th>\n",
       "      <th>Gmt time</th>\n",
       "      <th>Open</th>\n",
       "      <th>High</th>\n",
       "      <th>Low</th>\n",
       "      <th>Close</th>\n",
       "      <th>Volume</th>\n",
       "    </tr>\n",
       "  </thead>\n",
       "  <tbody>\n",
       "    <tr>\n",
       "      <th>0</th>\n",
       "      <td>30.09.2019 00:00:00.000</td>\n",
       "      <td>1.09425</td>\n",
       "      <td>1.09426</td>\n",
       "      <td>1.09405</td>\n",
       "      <td>1.09406</td>\n",
       "      <td>585.10</td>\n",
       "    </tr>\n",
       "    <tr>\n",
       "      <th>1</th>\n",
       "      <td>30.09.2019 00:05:00.000</td>\n",
       "      <td>1.09408</td>\n",
       "      <td>1.09414</td>\n",
       "      <td>1.09401</td>\n",
       "      <td>1.09409</td>\n",
       "      <td>289.39</td>\n",
       "    </tr>\n",
       "    <tr>\n",
       "      <th>2</th>\n",
       "      <td>30.09.2019 00:10:00.000</td>\n",
       "      <td>1.09410</td>\n",
       "      <td>1.09423</td>\n",
       "      <td>1.09408</td>\n",
       "      <td>1.09410</td>\n",
       "      <td>276.24</td>\n",
       "    </tr>\n",
       "    <tr>\n",
       "      <th>3</th>\n",
       "      <td>30.09.2019 00:15:00.000</td>\n",
       "      <td>1.09409</td>\n",
       "      <td>1.09410</td>\n",
       "      <td>1.09388</td>\n",
       "      <td>1.09389</td>\n",
       "      <td>439.29</td>\n",
       "    </tr>\n",
       "    <tr>\n",
       "      <th>4</th>\n",
       "      <td>30.09.2019 00:20:00.000</td>\n",
       "      <td>1.09390</td>\n",
       "      <td>1.09395</td>\n",
       "      <td>1.09388</td>\n",
       "      <td>1.09395</td>\n",
       "      <td>341.23</td>\n",
       "    </tr>\n",
       "    <tr>\n",
       "      <th>...</th>\n",
       "      <td>...</td>\n",
       "      <td>...</td>\n",
       "      <td>...</td>\n",
       "      <td>...</td>\n",
       "      <td>...</td>\n",
       "      <td>...</td>\n",
       "    </tr>\n",
       "    <tr>\n",
       "      <th>225081</th>\n",
       "      <td>30.09.2022 20:35:00.000</td>\n",
       "      <td>0.98028</td>\n",
       "      <td>0.98034</td>\n",
       "      <td>0.98001</td>\n",
       "      <td>0.98022</td>\n",
       "      <td>624.12</td>\n",
       "    </tr>\n",
       "    <tr>\n",
       "      <th>225082</th>\n",
       "      <td>30.09.2022 20:40:00.000</td>\n",
       "      <td>0.98023</td>\n",
       "      <td>0.98047</td>\n",
       "      <td>0.98007</td>\n",
       "      <td>0.98030</td>\n",
       "      <td>408.20</td>\n",
       "    </tr>\n",
       "    <tr>\n",
       "      <th>225083</th>\n",
       "      <td>30.09.2022 20:45:00.000</td>\n",
       "      <td>0.98026</td>\n",
       "      <td>0.98034</td>\n",
       "      <td>0.98019</td>\n",
       "      <td>0.98031</td>\n",
       "      <td>317.29</td>\n",
       "    </tr>\n",
       "    <tr>\n",
       "      <th>225084</th>\n",
       "      <td>30.09.2022 20:50:00.000</td>\n",
       "      <td>0.98031</td>\n",
       "      <td>0.98067</td>\n",
       "      <td>0.97987</td>\n",
       "      <td>0.97999</td>\n",
       "      <td>1472.13</td>\n",
       "    </tr>\n",
       "    <tr>\n",
       "      <th>225085</th>\n",
       "      <td>30.09.2022 20:55:00.000</td>\n",
       "      <td>0.98000</td>\n",
       "      <td>0.98066</td>\n",
       "      <td>0.97993</td>\n",
       "      <td>0.98026</td>\n",
       "      <td>1068.81</td>\n",
       "    </tr>\n",
       "  </tbody>\n",
       "</table>\n",
       "<p>225086 rows × 6 columns</p>\n",
       "</div>"
      ],
      "text/plain": [
       "                       Gmt time     Open     High      Low    Close   Volume\n",
       "0       30.09.2019 00:00:00.000  1.09425  1.09426  1.09405  1.09406   585.10\n",
       "1       30.09.2019 00:05:00.000  1.09408  1.09414  1.09401  1.09409   289.39\n",
       "2       30.09.2019 00:10:00.000  1.09410  1.09423  1.09408  1.09410   276.24\n",
       "3       30.09.2019 00:15:00.000  1.09409  1.09410  1.09388  1.09389   439.29\n",
       "4       30.09.2019 00:20:00.000  1.09390  1.09395  1.09388  1.09395   341.23\n",
       "...                         ...      ...      ...      ...      ...      ...\n",
       "225081  30.09.2022 20:35:00.000  0.98028  0.98034  0.98001  0.98022   624.12\n",
       "225082  30.09.2022 20:40:00.000  0.98023  0.98047  0.98007  0.98030   408.20\n",
       "225083  30.09.2022 20:45:00.000  0.98026  0.98034  0.98019  0.98031   317.29\n",
       "225084  30.09.2022 20:50:00.000  0.98031  0.98067  0.97987  0.97999  1472.13\n",
       "225085  30.09.2022 20:55:00.000  0.98000  0.98066  0.97993  0.98026  1068.81\n",
       "\n",
       "[225086 rows x 6 columns]"
      ]
     },
     "execution_count": 1,
     "metadata": {},
     "output_type": "execute_result"
    }
   ],
   "source": [
    "#importing the csv file with the historical data to be used for backtesting\n",
    "import pandas as pd\n",
    "df = pd.read_csv(\"EURUSD_Candlestick_5_M_ASK_30.09.2019-30.09.2022.csv\")\n",
    "df"
   ]
  },
  {
   "cell_type": "code",
   "execution_count": 2,
   "metadata": {},
   "outputs": [
    {
     "name": "stderr",
     "output_type": "stream",
     "text": [
      "C:\\Users\\keith\\AppData\\Local\\Temp/ipykernel_17528/1340908043.py:2: FutureWarning: The default value of regex will change from True to False in a future version.\n",
      "  df[\"Gmt time\"]=df[\"Gmt time\"].str.replace(\".000\",\"\")\n"
     ]
    },
    {
     "data": {
      "text/plain": [
       "224989"
      ]
     },
     "execution_count": 2,
     "metadata": {},
     "output_type": "execute_result"
    }
   ],
   "source": [
    "# reformatting the gmt time column to better suit the time format required removing the \"000\"\n",
    "df[\"Gmt time\"]=df[\"Gmt time\"].str.replace(\".000\",\"\")\n",
    "# formatting the gmt time column some more into a datetime string we can use\n",
    "df['Gmt time']=pd.to_datetime(df['Gmt time'], format='%d.%m.%Y %H:%M:%S')\n",
    "# setting the gmt time column as the index of the rows in the excel file\n",
    "df.set_index(\"Gmt time\", inplace=True)\n",
    "df=df[df.High!=df.Low]\n",
    "len(df)"
   ]
  },
  {
   "attachments": {},
   "cell_type": "markdown",
   "metadata": {},
   "source": [
    "## Adding technical indicators"
   ]
  },
  {
   "cell_type": "code",
   "execution_count": 3,
   "metadata": {},
   "outputs": [
    {
     "name": "stderr",
     "output_type": "stream",
     "text": [
      "C:\\Users\\keith\\AppData\\Local\\Temp/ipykernel_17528/1713291353.py:2: SettingWithCopyWarning: \n",
      "A value is trying to be set on a copy of a slice from a DataFrame.\n",
      "Try using .loc[row_indexer,col_indexer] = value instead\n",
      "\n",
      "See the caveats in the documentation: https://pandas.pydata.org/pandas-docs/stable/user_guide/indexing.html#returning-a-view-versus-a-copy\n",
      "  df[\"VWAP\"]=ta.vwap(df.High, df.Low, df.Close, df.Volume)\n",
      "C:\\Users\\keith\\AppData\\Local\\Temp/ipykernel_17528/1713291353.py:5: SettingWithCopyWarning: \n",
      "A value is trying to be set on a copy of a slice from a DataFrame.\n",
      "Try using .loc[row_indexer,col_indexer] = value instead\n",
      "\n",
      "See the caveats in the documentation: https://pandas.pydata.org/pandas-docs/stable/user_guide/indexing.html#returning-a-view-versus-a-copy\n",
      "  df[\"RSI\"]=ta.rsi(df.Close, length=16)\n"
     ]
    }
   ],
   "source": [
    "import pandas_ta as ta\n",
    "df[\"VWAP\"]=ta.vwap(df.High, df.Low, df.Close, df.Volume)\n",
    "# RSI Length and bbands length and std are values that can be experimented on \n",
    "# and more technical indicators can be added\n",
    "df[\"RSI\"]=ta.rsi(df.Close, length=16)\n",
    "my_bbands = ta.bbands(df.Close, length=20, std=2.0)\n",
    "df=df.join(my_bbands)"
   ]
  },
  {
   "cell_type": "code",
   "execution_count": 7,
   "metadata": {},
   "outputs": [],
   "source": [
    "def get_sma(prices, rate):\n",
    "    return prices.rolling(rate).mean()\n",
    "\n",
    "sma = get_sma(df.Close, 9)\n",
    "df['SMA'] = sma"
   ]
  },
  {
   "cell_type": "code",
   "execution_count": 5,
   "metadata": {},
   "outputs": [],
   "source": [
    "# Here we are computing the VWAP_Signal\n",
    "# Here we compute the number of candles that are completely above or below the VWAP Curve \n",
    "VWAPSignal = [0]*len(df)\n",
    "backcandles = 9\n",
    "\n",
    "for row in range(backcandles, len(df)):\n",
    "    upt = 1\n",
    "    dnt = 1\n",
    "    for i in range(row-backcandles, row+1):\n",
    "        if max(df.Open[i], df.Close[i])>=df.VWAP[i]:\n",
    "            dnt=0\n",
    "        if min(df.Open[i], df.Close[i])<=df.VWAP[i]:\n",
    "            upt=0\n",
    "    if upt==1 and dnt==1:\n",
    "        # No Change\n",
    "        VWAPSignal[row]=3\n",
    "    elif upt==1:\n",
    "        # Uptrend\n",
    "        VWAPSignal[row]=2\n",
    "    elif dnt==1:\n",
    "        # Downtrend\n",
    "        VWAPSignal[row]=1\n",
    "\n",
    "df['VWAPSignal'] = VWAPSignal"
   ]
  },
  {
   "cell_type": "code",
   "execution_count": null,
   "metadata": {},
   "outputs": [],
   "source": [
    "# Here we compute the total signal and determine where a buying or selling signal will be returned\n",
    "def TotalSignal(l):\n",
    "    if (df.VWAPSignal[l]==2\n",
    "        and df.Close[l]<=df['BBL_20_2.0'][l]\n",
    "        and df.RSI[l]<45):\n",
    "            return 2\n",
    "    if (df.VWAPSignal[l]==1\n",
    "        and df.Close[l]>=df['BBU_20_2.0'][l]\n",
    "        and df.RSI[l]>55):\n",
    "            return 1\n",
    "    return 0\n",
    "\n",
    "TotSignal = [0]*len(df)\n",
    "for row in range(backcandles, len(df)):\n",
    "    TotSignal[row] = TotalSignal(row)\n",
    "df['TotalSignal'] = TotSignal"
   ]
  },
  {
   "cell_type": "code",
   "execution_count": null,
   "metadata": {},
   "outputs": [],
   "source": [
    "df[df.TotalSignal!=0].count()"
   ]
  },
  {
   "attachments": {},
   "cell_type": "markdown",
   "metadata": {},
   "source": [
    "### Aids for visualizing the signals on the data "
   ]
  },
  {
   "cell_type": "code",
   "execution_count": null,
   "metadata": {},
   "outputs": [],
   "source": [
    "# Creating points above or below wherever there are buying or selling signals \n",
    "import numpy as np\n",
    "def pointposbreak(x):\n",
    "    if x['TotalSignal']==1:\n",
    "        return x['High']+1e-4\n",
    "    elif x['TotalSignal']==2:\n",
    "        return x['Low']-1e-4\n",
    "    else:\n",
    "        return np.nan\n",
    "\n",
    "df['pointposbreak'] = df.apply(lambda row: pointposbreak(row), axis=1)"
   ]
  },
  {
   "cell_type": "code",
   "execution_count": null,
   "metadata": {},
   "outputs": [],
   "source": [
    "# Plotting the candles, the indicators, the signals and the Bollinger bands to visualize what we have\n",
    "import plotly.graph_objects as go\n",
    "from plotly.subplots import make_subplots\n",
    "from datetime import datetime\n",
    "st = 10400\n",
    "dfpl = df[st:st+350]\n",
    "dfpl.reset_index(inplace=True)\n",
    "fig = go.Figure(data=[go.Candlestick(x=dfpl.index,\n",
    "                open=dfpl['Open'],\n",
    "                high=dfpl['High'],\n",
    "                low=dfpl['Low'],\n",
    "                close=dfpl['Close']),\n",
    "                 go.Scatter(x=dfpl.index, y=dfpl.VWAP, \n",
    "                           line=dict(color='blue', width=1), \n",
    "                           name=\"VWAP\"), \n",
    "                go.Scatter(x=dfpl.index, y=dfpl['BBL_20_2.0'], \n",
    "                           line=dict(color='green', width=1), \n",
    "                           name=\"BBL\"),\n",
    "                go.Scatter(x=dfpl.index, y=dfpl['BBU_20_2.0'], \n",
    "                           line=dict(color='green', width=1),       \n",
    "                           name=\"BBU\")])\n",
    "\n",
    "fig.add_scatter(x=dfpl.index, y=dfpl['pointposbreak'], mode=\"markers\",\n",
    "                marker=dict(size=10, color=\"MediumPurple\"),\n",
    "                name=\"Signal\")\n",
    "fig.add_scatter(x=dfpl.index,y=dfpl['SMA'], mode=\"markers\",\n",
    "                marker=dict(size=7,color=\"Blue\"),\n",
    "                name=\"9 SMA\")\n",
    "fig.show()"
   ]
  },
  {
   "attachments": {},
   "cell_type": "markdown",
   "metadata": {},
   "source": [
    "### This is the backtesting portion of the code"
   ]
  },
  {
   "cell_type": "code",
   "execution_count": null,
   "metadata": {},
   "outputs": [],
   "source": [
    "dfpl = df[:225000].copy()\n",
    "import pandas_ta as ta\n",
    "dfpl['ATR']=ta.atr(dfpl.High, dfpl.Low, dfpl.Close, length=7)\n",
    "#help(ta.atr)\n",
    "def SIGNAL():\n",
    "    return dfpl.TotalSignal"
   ]
  },
  {
   "cell_type": "code",
   "execution_count": null,
   "metadata": {},
   "outputs": [],
   "source": [
    "from backtesting import Strategy\n",
    "from backtesting import Backtest\n",
    "\n",
    "class MyStrat(Strategy):\n",
    "    initsize = 0.99\n",
    "    mysize = initsize\n",
    "    def init(self):\n",
    "        super().init()\n",
    "        self.signal1 = self.I(SIGNAL)\n",
    "\n",
    "    def next(self):\n",
    "        super().next()\n",
    "        slatr = 1.2*self.data.ATR[-1]\n",
    "        TPSLRatio = 1.5\n",
    "\n",
    "        if len(self.trades)>0:\n",
    "            if self.trades[-1].is_long and self.data.RSI[-1]>=90:\n",
    "                self.trades[-1].close()\n",
    "            elif self.trades[-1].is_short and self.data.RSI[-1]<=10:\n",
    "                self.trades[-1].close()\n",
    "        \n",
    "        if self.signal1==2 and len(self.trades)==0:\n",
    "            sl1 = self.data.Close[-1] - slatr\n",
    "            tp1 = self.data.Close[-1] + slatr*TPSLRatio\n",
    "            self.buy(sl=sl1, tp=tp1, size=self.mysize)\n",
    "        \n",
    "        elif self.signal1==1 and len(self.trades)==0:         \n",
    "            sl1 = self.data.Close[-1] + slatr\n",
    "            tp1 = self.data.Close[-1] - slatr*TPSLRatio\n",
    "            self.sell(sl=sl1, tp=tp1, size=self.mysize)\n",
    "\n",
    "bt = Backtest(dfpl, MyStrat, cash=100, margin=1/10, commission=0.00)\n",
    "stat = bt.run()\n",
    "stat"
   ]
  }
 ],
 "metadata": {
  "kernelspec": {
   "display_name": "Python 3",
   "language": "python",
   "name": "python3"
  },
  "language_info": {
   "codemirror_mode": {
    "name": "ipython",
    "version": 3
   },
   "file_extension": ".py",
   "mimetype": "text/x-python",
   "name": "python",
   "nbconvert_exporter": "python",
   "pygments_lexer": "ipython3",
   "version": "3.9.6"
  },
  "orig_nbformat": 4,
  "vscode": {
   "interpreter": {
    "hash": "81794d4967e6c3204c66dcd87b604927b115b27c00565d3d43f05ba2f3a2cb0d"
   }
  }
 },
 "nbformat": 4,
 "nbformat_minor": 2
}
