{
 "cells": [
  {
   "attachments": {},
   "cell_type": "markdown",
   "metadata": {},
   "source": [
    "### 1 - Importing the test Data"
   ]
  },
  {
   "cell_type": "code",
   "execution_count": 9,
   "metadata": {},
   "outputs": [
    {
     "name": "stdout",
     "output_type": "stream",
     "text": [
      "[*********************100%***********************]  1 of 1 completed\n"
     ]
    },
    {
     "data": {
      "text/html": [
       "<div>\n",
       "<style scoped>\n",
       "    .dataframe tbody tr th:only-of-type {\n",
       "        vertical-align: middle;\n",
       "    }\n",
       "\n",
       "    .dataframe tbody tr th {\n",
       "        vertical-align: top;\n",
       "    }\n",
       "\n",
       "    .dataframe thead th {\n",
       "        text-align: right;\n",
       "    }\n",
       "</style>\n",
       "<table border=\"1\" class=\"dataframe\">\n",
       "  <thead>\n",
       "    <tr style=\"text-align: right;\">\n",
       "      <th></th>\n",
       "      <th>Open</th>\n",
       "      <th>High</th>\n",
       "      <th>Low</th>\n",
       "      <th>Close</th>\n",
       "      <th>Adj Close</th>\n",
       "      <th>Volume</th>\n",
       "    </tr>\n",
       "    <tr>\n",
       "      <th>Datetime</th>\n",
       "      <th></th>\n",
       "      <th></th>\n",
       "      <th></th>\n",
       "      <th></th>\n",
       "      <th></th>\n",
       "      <th></th>\n",
       "    </tr>\n",
       "  </thead>\n",
       "  <tbody>\n",
       "    <tr>\n",
       "      <th>2022-11-09 00:00:00</th>\n",
       "      <td>1.007861</td>\n",
       "      <td>1.008166</td>\n",
       "      <td>1.007049</td>\n",
       "      <td>1.007049</td>\n",
       "      <td>1.007049</td>\n",
       "      <td>0</td>\n",
       "    </tr>\n",
       "    <tr>\n",
       "      <th>2022-11-09 00:15:00</th>\n",
       "      <td>1.007049</td>\n",
       "      <td>1.007455</td>\n",
       "      <td>1.006745</td>\n",
       "      <td>1.007151</td>\n",
       "      <td>1.007151</td>\n",
       "      <td>0</td>\n",
       "    </tr>\n",
       "    <tr>\n",
       "      <th>2022-11-09 00:30:00</th>\n",
       "      <td>1.007455</td>\n",
       "      <td>1.007760</td>\n",
       "      <td>1.007252</td>\n",
       "      <td>1.007252</td>\n",
       "      <td>1.007252</td>\n",
       "      <td>0</td>\n",
       "    </tr>\n",
       "    <tr>\n",
       "      <th>2022-11-09 00:45:00</th>\n",
       "      <td>1.007049</td>\n",
       "      <td>1.007049</td>\n",
       "      <td>1.006441</td>\n",
       "      <td>1.006644</td>\n",
       "      <td>1.006644</td>\n",
       "      <td>0</td>\n",
       "    </tr>\n",
       "    <tr>\n",
       "      <th>2022-11-09 01:00:00</th>\n",
       "      <td>1.006543</td>\n",
       "      <td>1.007049</td>\n",
       "      <td>1.006340</td>\n",
       "      <td>1.006745</td>\n",
       "      <td>1.006745</td>\n",
       "      <td>0</td>\n",
       "    </tr>\n",
       "    <tr>\n",
       "      <th>...</th>\n",
       "      <td>...</td>\n",
       "      <td>...</td>\n",
       "      <td>...</td>\n",
       "      <td>...</td>\n",
       "      <td>...</td>\n",
       "      <td>...</td>\n",
       "    </tr>\n",
       "    <tr>\n",
       "      <th>2023-01-04 22:45:00</th>\n",
       "      <td>1.060670</td>\n",
       "      <td>1.061121</td>\n",
       "      <td>1.060670</td>\n",
       "      <td>1.060895</td>\n",
       "      <td>1.060895</td>\n",
       "      <td>0</td>\n",
       "    </tr>\n",
       "    <tr>\n",
       "      <th>2023-01-04 23:00:00</th>\n",
       "      <td>1.061008</td>\n",
       "      <td>1.061121</td>\n",
       "      <td>1.060558</td>\n",
       "      <td>1.060783</td>\n",
       "      <td>1.060783</td>\n",
       "      <td>0</td>\n",
       "    </tr>\n",
       "    <tr>\n",
       "      <th>2023-01-04 23:15:00</th>\n",
       "      <td>1.060895</td>\n",
       "      <td>1.060895</td>\n",
       "      <td>1.060670</td>\n",
       "      <td>1.060895</td>\n",
       "      <td>1.060895</td>\n",
       "      <td>0</td>\n",
       "    </tr>\n",
       "    <tr>\n",
       "      <th>2023-01-04 23:30:00</th>\n",
       "      <td>1.061233</td>\n",
       "      <td>1.061684</td>\n",
       "      <td>1.060783</td>\n",
       "      <td>1.061684</td>\n",
       "      <td>1.061684</td>\n",
       "      <td>0</td>\n",
       "    </tr>\n",
       "    <tr>\n",
       "      <th>2023-01-04 23:45:00</th>\n",
       "      <td>1.061458</td>\n",
       "      <td>1.061684</td>\n",
       "      <td>1.061121</td>\n",
       "      <td>1.061121</td>\n",
       "      <td>1.061121</td>\n",
       "      <td>0</td>\n",
       "    </tr>\n",
       "  </tbody>\n",
       "</table>\n",
       "<p>3887 rows × 6 columns</p>\n",
       "</div>"
      ],
      "text/plain": [
       "                         Open      High       Low     Close  Adj Close  Volume\n",
       "Datetime                                                                      \n",
       "2022-11-09 00:00:00  1.007861  1.008166  1.007049  1.007049   1.007049       0\n",
       "2022-11-09 00:15:00  1.007049  1.007455  1.006745  1.007151   1.007151       0\n",
       "2022-11-09 00:30:00  1.007455  1.007760  1.007252  1.007252   1.007252       0\n",
       "2022-11-09 00:45:00  1.007049  1.007049  1.006441  1.006644   1.006644       0\n",
       "2022-11-09 01:00:00  1.006543  1.007049  1.006340  1.006745   1.006745       0\n",
       "...                       ...       ...       ...       ...        ...     ...\n",
       "2023-01-04 22:45:00  1.060670  1.061121  1.060670  1.060895   1.060895       0\n",
       "2023-01-04 23:00:00  1.061008  1.061121  1.060558  1.060783   1.060783       0\n",
       "2023-01-04 23:15:00  1.060895  1.060895  1.060670  1.060895   1.060895       0\n",
       "2023-01-04 23:30:00  1.061233  1.061684  1.060783  1.061684   1.061684       0\n",
       "2023-01-04 23:45:00  1.061458  1.061684  1.061121  1.061121   1.061121       0\n",
       "\n",
       "[3887 rows x 6 columns]"
      ]
     },
     "execution_count": 9,
     "metadata": {},
     "output_type": "execute_result"
    }
   ],
   "source": [
    "import yfinance as yf\n",
    "import pandas as pd\n",
    "\n",
    "dataF = yf.download(\"EURUSD=X\", start=\"2022-11-9\", end=\"2023-01-5\", interval='15m')\n",
    "dataF.iloc[:,:]"
   ]
  },
  {
   "attachments": {},
   "cell_type": "markdown",
   "metadata": {},
   "source": [
    "### 2- Defining the signal function"
   ]
  },
  {
   "cell_type": "code",
   "execution_count": 13,
   "metadata": {},
   "outputs": [],
   "source": [
    "def signal_generator(df):\n",
    "    open = df.Open.iloc[-1]\n",
    "    close = df.Close.iloc[-1]\n",
    "    previous_open = df.Open.iloc[-2]\n",
    "    previous_close = df.Close.iloc[-2]\n",
    "\n",
    "    # Bearish Pattern\n",
    "    if (open > close and \n",
    "        previous_open < previous_close and\n",
    "        close < previous_open and\n",
    "        open >= previous_close):\n",
    "        return 1\n",
    "\n",
    "    # Bullish Pattern\n",
    "    elif (open < close and\n",
    "        previous_open > previous_close and\n",
    "        close > previous_open and\n",
    "        open <= previous_close):\n",
    "        return 2\n",
    "\n",
    "    # No clear pattern\n",
    "    else:\n",
    "        return 0\n",
    "\n",
    "signal = []\n",
    "signal.append(0)\n",
    "for i in range(1, len(dataF)):\n",
    "    df = dataF[i-1:i+1]\n",
    "    signal.append(signal_generator(df))\n",
    "# signal_generator(data)\n",
    "dataF[\"signal\"] = signal\n"
   ]
  },
  {
   "cell_type": "code",
   "execution_count": 14,
   "metadata": {},
   "outputs": [
    {
     "data": {
      "text/plain": [
       "0    3543\n",
       "1     176\n",
       "2     168\n",
       "Name: signal, dtype: int64"
      ]
     },
     "execution_count": 14,
     "metadata": {},
     "output_type": "execute_result"
    }
   ],
   "source": [
    "dataF.signal.value_counts()"
   ]
  },
  {
   "attachments": {},
   "cell_type": "markdown",
   "metadata": {},
   "source": [
    "### 3- Connecting to a market and excecuting trades"
   ]
  },
  {
   "cell_type": "code",
   "execution_count": null,
   "metadata": {},
   "outputs": [],
   "source": [
    "from apscheduler.schedulers.blocking import BlockingScheduler\n",
    "from oandapyV20 import API\n",
    "import oandapyV20.endpoints.orders as orders\n",
    "from oandapyV20.contrib.requests import MarketOrderRequest\n",
    "from oanda_candles import Pair, Gran, CandleClient\n",
    "from oandapyV20.contrib.requests import TakeProfitDetails, StopLossDetails "
   ]
  }
 ],
 "metadata": {
  "kernelspec": {
   "display_name": "Python 3",
   "language": "python",
   "name": "python3"
  },
  "language_info": {
   "codemirror_mode": {
    "name": "ipython",
    "version": 3
   },
   "file_extension": ".py",
   "mimetype": "text/x-python",
   "name": "python",
   "nbconvert_exporter": "python",
   "pygments_lexer": "ipython3",
   "version": "3.9.6"
  },
  "orig_nbformat": 4,
  "vscode": {
   "interpreter": {
    "hash": "81794d4967e6c3204c66dcd87b604927b115b27c00565d3d43f05ba2f3a2cb0d"
   }
  }
 },
 "nbformat": 4,
 "nbformat_minor": 2
}
